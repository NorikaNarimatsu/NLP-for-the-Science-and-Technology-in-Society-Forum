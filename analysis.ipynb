{
 "cells": [
  {
   "cell_type": "code",
   "execution_count": 1,
   "metadata": {},
   "outputs": [
    {
     "name": "stderr",
     "output_type": "stream",
     "text": [
      "[nltk_data] Downloading package stopwords to\n",
      "[nltk_data]     /home/nnarimat/nltk_data...\n",
      "[nltk_data]   Unzipping corpora/stopwords.zip.\n",
      "[nltk_data] Downloading package punkt to /home/nnarimat/nltk_data...\n",
      "[nltk_data]   Unzipping tokenizers/punkt.zip.\n"
     ]
    },
    {
     "data": {
      "text/plain": [
       "True"
      ]
     },
     "execution_count": 1,
     "metadata": {},
     "output_type": "execute_result"
    }
   ],
   "source": [
    "import pandas as pd # Download NLTK stopwords and punkt tokenizer\n",
    "import nltk\n",
    "from nltk.corpus import stopwords\n",
    "from nltk.tokenize import word_tokenize\n",
    "import string\n",
    "from collections import Counter\n",
    "\n",
    "nltk.download('stopwords')\n",
    "nltk.download('punkt')"
   ]
  },
  {
   "cell_type": "code",
   "execution_count": 2,
   "metadata": {},
   "outputs": [
    {
     "data": {
      "text/html": [
       "<div>\n",
       "<style scoped>\n",
       "    .dataframe tbody tr th:only-of-type {\n",
       "        vertical-align: middle;\n",
       "    }\n",
       "\n",
       "    .dataframe tbody tr th {\n",
       "        vertical-align: top;\n",
       "    }\n",
       "\n",
       "    .dataframe thead th {\n",
       "        text-align: right;\n",
       "    }\n",
       "</style>\n",
       "<table border=\"1\" class=\"dataframe\">\n",
       "  <thead>\n",
       "    <tr style=\"text-align: right;\">\n",
       "      <th></th>\n",
       "      <th>Year</th>\n",
       "      <th>Text</th>\n",
       "    </tr>\n",
       "  </thead>\n",
       "  <tbody>\n",
       "    <tr>\n",
       "      <th>0</th>\n",
       "      <td>2004</td>\n",
       "      <td>\\n  \\nScience and Technology in Society forum...</td>\n",
       "    </tr>\n",
       "    <tr>\n",
       "      <th>1</th>\n",
       "      <td>2005</td>\n",
       "      <td>\\nScience and Technology in Society (STS) for...</td>\n",
       "    </tr>\n",
       "    <tr>\n",
       "      <th>2</th>\n",
       "      <td>2006</td>\n",
       "      <td>\\nScience and Technology in Society (STS) for...</td>\n",
       "    </tr>\n",
       "    <tr>\n",
       "      <th>3</th>\n",
       "      <td>2007</td>\n",
       "      <td>Science and Technology  in Society (STS) forum...</td>\n",
       "    </tr>\n",
       "    <tr>\n",
       "      <th>4</th>\n",
       "      <td>2008</td>\n",
       "      <td>STS forum 2008       I                        ...</td>\n",
       "    </tr>\n",
       "  </tbody>\n",
       "</table>\n",
       "</div>"
      ],
      "text/plain": [
       "   Year                                               Text\n",
       "0  2004   \\n  \\nScience and Technology in Society forum...\n",
       "1  2005   \\nScience and Technology in Society (STS) for...\n",
       "2  2006   \\nScience and Technology in Society (STS) for...\n",
       "3  2007  Science and Technology  in Society (STS) forum...\n",
       "4  2008  STS forum 2008       I                        ..."
      ]
     },
     "execution_count": 2,
     "metadata": {},
     "output_type": "execute_result"
    }
   ],
   "source": [
    "df = pd.read_csv(\"summaries.csv\")\n",
    "df.head()"
   ]
  },
  {
   "cell_type": "code",
   "execution_count": 11,
   "metadata": {},
   "outputs": [
    {
     "data": {
      "text/html": [
       "<div>\n",
       "<style scoped>\n",
       "    .dataframe tbody tr th:only-of-type {\n",
       "        vertical-align: middle;\n",
       "    }\n",
       "\n",
       "    .dataframe tbody tr th {\n",
       "        vertical-align: top;\n",
       "    }\n",
       "\n",
       "    .dataframe thead th {\n",
       "        text-align: right;\n",
       "    }\n",
       "</style>\n",
       "<table border=\"1\" class=\"dataframe\">\n",
       "  <thead>\n",
       "    <tr style=\"text-align: right;\">\n",
       "      <th></th>\n",
       "      <th>Year</th>\n",
       "      <th>Text</th>\n",
       "      <th>Cleaned Text</th>\n",
       "    </tr>\n",
       "  </thead>\n",
       "  <tbody>\n",
       "    <tr>\n",
       "      <th>0</th>\n",
       "      <td>2004</td>\n",
       "      <td>\\n\\nScience and Technology in Society forum\\n\\...</td>\n",
       "      <td>science technology society forum science techn...</td>\n",
       "    </tr>\n",
       "    <tr>\n",
       "      <th>1</th>\n",
       "      <td>2005</td>\n",
       "      <td>\\nScience and Technology in Society (STS) foru...</td>\n",
       "      <td>science technology society sts forum lights sh...</td>\n",
       "    </tr>\n",
       "    <tr>\n",
       "      <th>2</th>\n",
       "      <td>2006</td>\n",
       "      <td>\\nScience and Technology in Society (STS) foru...</td>\n",
       "      <td>science technology society sts forum lights sh...</td>\n",
       "    </tr>\n",
       "    <tr>\n",
       "      <th>3</th>\n",
       "      <td>2007</td>\n",
       "      <td>Science and Technology  in Society (STS) forum...</td>\n",
       "      <td>science technology society sts forum lights sh...</td>\n",
       "    </tr>\n",
       "    <tr>\n",
       "      <th>4</th>\n",
       "      <td>2008</td>\n",
       "      <td>STS forum 2008       I\\nScience and Technology...</td>\n",
       "      <td>sts forum science technology society sts forum...</td>\n",
       "    </tr>\n",
       "    <tr>\n",
       "      <th>5</th>\n",
       "      <td>2009</td>\n",
       "      <td>Science and Technology in Society\\nNon-Profit ...</td>\n",
       "      <td>science technology society organization sts fo...</td>\n",
       "    </tr>\n",
       "    <tr>\n",
       "      <th>6</th>\n",
       "      <td>2010</td>\n",
       "      <td>Science and Technology in Society\\nNon-Profit ...</td>\n",
       "      <td>science technology society organization sts fo...</td>\n",
       "    </tr>\n",
       "    <tr>\n",
       "      <th>7</th>\n",
       "      <td>2011</td>\n",
       "      <td>Science and Technology in Society\\nNon-Profit ...</td>\n",
       "      <td>science technology society organization sts fo...</td>\n",
       "    </tr>\n",
       "    <tr>\n",
       "      <th>8</th>\n",
       "      <td>2012</td>\n",
       "      <td>II        STS forum  2012                    ...</td>\n",
       "      <td>ii sts forum sunday october opening plenary se...</td>\n",
       "    </tr>\n",
       "    <tr>\n",
       "      <th>9</th>\n",
       "      <td>2013</td>\n",
       "      <td>STS forum  – Scien ce and Technology in Societ...</td>\n",
       "      <td>sts forum scien ce technology society forum st...</td>\n",
       "    </tr>\n",
       "    <tr>\n",
       "      <th>10</th>\n",
       "      <td>2014</td>\n",
       "      <td>Table of ContentsSTS forum  2014\\nStatement .....</td>\n",
       "      <td>table contentssts forum statement day opening ...</td>\n",
       "    </tr>\n",
       "    <tr>\n",
       "      <th>11</th>\n",
       "      <td>2015</td>\n",
       "      <td>1\\nTable of Contents\\nThemes of Concurrent Ses...</td>\n",
       "      <td>table contents themes concurrent sessions stat...</td>\n",
       "    </tr>\n",
       "    <tr>\n",
       "      <th>12</th>\n",
       "      <td>2016</td>\n",
       "      <td>Summary of STS forum  20162October 1,  2016 (S...</td>\n",
       "      <td>summary sts forum saturday networking plaza gr...</td>\n",
       "    </tr>\n",
       "    <tr>\n",
       "      <th>13</th>\n",
       "      <td>2017</td>\n",
       "      <td>2017\\n14th Annual Meeting\\nOctober 1, 2 and 3,...</td>\n",
       "      <td>annual meeting october kyoto japan science tec...</td>\n",
       "    </tr>\n",
       "    <tr>\n",
       "      <th>14</th>\n",
       "      <td>2018</td>\n",
       "      <td>2018\\n15th Annual Meeting\\nOctober 7, 8 and 9,...</td>\n",
       "      <td>annual meeting october kyoto japan science tec...</td>\n",
       "    </tr>\n",
       "    <tr>\n",
       "      <th>15</th>\n",
       "      <td>2019</td>\n",
       "      <td>2019\\n16th Annual Meeting\\nOctober 6, 7 and 8,...</td>\n",
       "      <td>annual meeting october kyoto japan science tec...</td>\n",
       "    </tr>\n",
       "    <tr>\n",
       "      <th>16</th>\n",
       "      <td>2020</td>\n",
       "      <td>2020\\n17th Annual Meeting\\nOctober 3, 4, 5 and...</td>\n",
       "      <td>annual meeting october kyoto japan science tec...</td>\n",
       "    </tr>\n",
       "    <tr>\n",
       "      <th>17</th>\n",
       "      <td>2021</td>\n",
       "      <td>2021\\n18th Annual Meeting\\nOctober 2, 3, 4 and...</td>\n",
       "      <td>annual meeting october japanscience technology...</td>\n",
       "    </tr>\n",
       "    <tr>\n",
       "      <th>18</th>\n",
       "      <td>2022</td>\n",
       "      <td>2022\\n19th Annual Meeting\\nOctober 2, 3 and 4,...</td>\n",
       "      <td>annual meeting october japanscience technology...</td>\n",
       "    </tr>\n",
       "    <tr>\n",
       "      <th>19</th>\n",
       "      <td>2023</td>\n",
       "      <td>\u0013\u0011\u0013\u0014\\n20th Annual Meeting\\nOctober 1, 2 and 3,...</td>\n",
       "      <td>annual meeting october sts forum forum annual ...</td>\n",
       "    </tr>\n",
       "  </tbody>\n",
       "</table>\n",
       "</div>"
      ],
      "text/plain": [
       "    Year                                               Text  \\\n",
       "0   2004  \\n\\nScience and Technology in Society forum\\n\\...   \n",
       "1   2005  \\nScience and Technology in Society (STS) foru...   \n",
       "2   2006  \\nScience and Technology in Society (STS) foru...   \n",
       "3   2007  Science and Technology  in Society (STS) forum...   \n",
       "4   2008  STS forum 2008       I\\nScience and Technology...   \n",
       "5   2009  Science and Technology in Society\\nNon-Profit ...   \n",
       "6   2010  Science and Technology in Society\\nNon-Profit ...   \n",
       "7   2011  Science and Technology in Society\\nNon-Profit ...   \n",
       "8   2012   II        STS forum  2012                    ...   \n",
       "9   2013  STS forum  – Scien ce and Technology in Societ...   \n",
       "10  2014  Table of ContentsSTS forum  2014\\nStatement .....   \n",
       "11  2015  1\\nTable of Contents\\nThemes of Concurrent Ses...   \n",
       "12  2016  Summary of STS forum  20162October 1,  2016 (S...   \n",
       "13  2017  2017\\n14th Annual Meeting\\nOctober 1, 2 and 3,...   \n",
       "14  2018  2018\\n15th Annual Meeting\\nOctober 7, 8 and 9,...   \n",
       "15  2019  2019\\n16th Annual Meeting\\nOctober 6, 7 and 8,...   \n",
       "16  2020  2020\\n17th Annual Meeting\\nOctober 3, 4, 5 and...   \n",
       "17  2021  2021\\n18th Annual Meeting\\nOctober 2, 3, 4 and...   \n",
       "18  2022  2022\\n19th Annual Meeting\\nOctober 2, 3 and 4,...   \n",
       "19  2023  \u0013\u0011\u0013\u0014\\n20th Annual Meeting\\nOctober 1, 2 and 3,...   \n",
       "\n",
       "                                         Cleaned Text  \n",
       "0   science technology society forum science techn...  \n",
       "1   science technology society sts forum lights sh...  \n",
       "2   science technology society sts forum lights sh...  \n",
       "3   science technology society sts forum lights sh...  \n",
       "4   sts forum science technology society sts forum...  \n",
       "5   science technology society organization sts fo...  \n",
       "6   science technology society organization sts fo...  \n",
       "7   science technology society organization sts fo...  \n",
       "8   ii sts forum sunday october opening plenary se...  \n",
       "9   sts forum scien ce technology society forum st...  \n",
       "10  table contentssts forum statement day opening ...  \n",
       "11  table contents themes concurrent sessions stat...  \n",
       "12  summary sts forum saturday networking plaza gr...  \n",
       "13  annual meeting october kyoto japan science tec...  \n",
       "14  annual meeting october kyoto japan science tec...  \n",
       "15  annual meeting october kyoto japan science tec...  \n",
       "16  annual meeting october kyoto japan science tec...  \n",
       "17  annual meeting october japanscience technology...  \n",
       "18  annual meeting october japanscience technology...  \n",
       "19  annual meeting october sts forum forum annual ...  "
      ]
     },
     "metadata": {},
     "output_type": "display_data"
    }
   ],
   "source": [
    "\n",
    "# Read the CSV file\n",
    "df = pd.read_csv(\"summaries.csv\")\n",
    "\n",
    "# Define a function to clean the text\n",
    "def clean_text(text):\n",
    "    # Remove newline characters\n",
    "    text = text.replace('\\n', ' ')\n",
    "\n",
    "    # Tokenize the text\n",
    "    tokens = word_tokenize(text)\n",
    "\n",
    "    # Remove punctuation and stopwords\n",
    "    stop_words = set(stopwords.words('english'))\n",
    "    tokens = [word.lower() for word in tokens if word.isalpha() and word.lower() not in stop_words]\n",
    "\n",
    "    # Join the tokens back into a string\n",
    "    cleaned_text = ' '.join(tokens)\n",
    "\n",
    "    return cleaned_text\n",
    "\n",
    "# Apply the cleaning function to the 'Text' column\n",
    "df['Cleaned Text'] = df['Text'].apply(clean_text)\n",
    "\n",
    "# Display the DataFrame with cleaned text\n",
    "display(df.head(20))"
   ]
  },
  {
   "cell_type": "code",
   "execution_count": 15,
   "metadata": {},
   "outputs": [
    {
     "data": {
      "text/plain": [
       "{'science': 108,\n",
       " 'technology': 61,\n",
       " 'session': 49,\n",
       " 'research': 49,\n",
       " 'countries': 48,\n",
       " 'energy': 47,\n",
       " 'society': 40,\n",
       " 'said': 40,\n",
       " 'developing': 39,\n",
       " 'president': 39}"
      ]
     },
     "metadata": {},
     "output_type": "display_data"
    },
    {
     "data": {
      "text/plain": [
       "{'science': 209,\n",
       " 'technology': 176,\n",
       " 'society': 84,\n",
       " 'president': 75,\n",
       " 'research': 65,\n",
       " 'forum': 64,\n",
       " 'us': 64,\n",
       " 'e': 64,\n",
       " 'new': 61,\n",
       " 'jp': 57}"
      ]
     },
     "metadata": {},
     "output_type": "display_data"
    },
    {
     "data": {
      "text/plain": [
       "{'e': 232,\n",
       " 'science': 182,\n",
       " 'n': 155,\n",
       " 'r': 145,\n",
       " 'technology': 124,\n",
       " 'l': 87,\n",
       " 'c': 78,\n",
       " 'h': 77,\n",
       " 'president': 73,\n",
       " 'new': 70}"
      ]
     },
     "metadata": {},
     "output_type": "display_data"
    },
    {
     "data": {
      "text/plain": [
       "{'science': 221,\n",
       " 'technology': 180,\n",
       " 'research': 112,\n",
       " 'new': 86,\n",
       " 'us': 86,\n",
       " 'forum': 83,\n",
       " 'need': 81,\n",
       " 'president': 80,\n",
       " 'innovation': 77,\n",
       " 'countries': 77}"
      ]
     },
     "metadata": {},
     "output_type": "display_data"
    },
    {
     "data": {
      "text/plain": [
       "{'science': 168,\n",
       " 'technology': 140,\n",
       " 'research': 123,\n",
       " 'countries': 105,\n",
       " 'developing': 93,\n",
       " 'new': 76,\n",
       " 'need': 74,\n",
       " 'president': 73,\n",
       " 'must': 73,\n",
       " 'energy': 72}"
      ]
     },
     "metadata": {},
     "output_type": "display_data"
    },
    {
     "data": {
      "text/plain": [
       "{'science': 207,\n",
       " 'technology': 180,\n",
       " 'research': 123,\n",
       " 'must': 112,\n",
       " 'japan': 91,\n",
       " 'scientists': 87,\n",
       " 'world': 85,\n",
       " 'new': 84,\n",
       " 'energy': 80,\n",
       " 'president': 80}"
      ]
     },
     "metadata": {},
     "output_type": "display_data"
    },
    {
     "data": {
      "text/plain": [
       "{'science': 161,\n",
       " 'technology': 153,\n",
       " 'energy': 144,\n",
       " 'world': 100,\n",
       " 'also': 99,\n",
       " 'one': 97,\n",
       " 'said': 94,\n",
       " 'new': 87,\n",
       " 'research': 87,\n",
       " 'must': 83}"
      ]
     },
     "metadata": {},
     "output_type": "display_data"
    },
    {
     "data": {
      "text/plain": [
       "{'also': 130,\n",
       " 'technology': 120,\n",
       " 'science': 106,\n",
       " 'research': 101,\n",
       " 'energy': 94,\n",
       " 'new': 82,\n",
       " 'us': 77,\n",
       " 'must': 76,\n",
       " 'development': 69,\n",
       " 'important': 66}"
      ]
     },
     "metadata": {},
     "output_type": "display_data"
    },
    {
     "data": {
      "text/plain": [
       "{'research': 138,\n",
       " 'science': 128,\n",
       " 'also': 125,\n",
       " 'technology': 124,\n",
       " 'energy': 101,\n",
       " 'countries': 86,\n",
       " 'people': 75,\n",
       " 'must': 73,\n",
       " 'one': 73,\n",
       " 'president': 72}"
      ]
     },
     "metadata": {},
     "output_type": "display_data"
    },
    {
     "data": {
      "text/plain": [
       "{'forum': 219,\n",
       " 'technology': 192,\n",
       " 'science': 182,\n",
       " 'sts': 147,\n",
       " 'research': 131,\n",
       " 'energy': 111,\n",
       " 'japan': 105,\n",
       " 'also': 98,\n",
       " 'society': 95,\n",
       " 'one': 94}"
      ]
     },
     "metadata": {},
     "output_type": "display_data"
    },
    {
     "data": {
      "text/plain": [
       "{'also': 400,\n",
       " 'technology': 376,\n",
       " 'science': 354,\n",
       " 'research': 233,\n",
       " 'innovation': 232,\n",
       " 'countries': 213,\n",
       " 'society': 205,\n",
       " 'would': 195,\n",
       " 'one': 184,\n",
       " 'session': 180}"
      ]
     },
     "metadata": {},
     "output_type": "display_data"
    },
    {
     "data": {
      "text/plain": [
       "{'science': 417,\n",
       " 'also': 384,\n",
       " 'technology': 378,\n",
       " 'speaker': 305,\n",
       " 'innovation': 244,\n",
       " 'nationality': 237,\n",
       " 'research': 231,\n",
       " 'japan': 229,\n",
       " 'energy': 226,\n",
       " 'must': 220}"
      ]
     },
     "metadata": {},
     "output_type": "display_data"
    },
    {
     "data": {
      "text/plain": [
       "{'science': 405,\n",
       " 'technology': 348,\n",
       " 'also': 315,\n",
       " 'research': 231,\n",
       " 'speaker': 227,\n",
       " 'data': 219,\n",
       " 'energy': 209,\n",
       " 'japan': 196,\n",
       " 'must': 181,\n",
       " 'new': 173}"
      ]
     },
     "metadata": {},
     "output_type": "display_data"
    },
    {
     "data": {
      "text/plain": [
       "{'science': 329,\n",
       " 'technology': 316,\n",
       " 'society': 214,\n",
       " 'energy': 179,\n",
       " 'japan': 167,\n",
       " 'also': 165,\n",
       " 'new': 160,\n",
       " 'research': 154,\n",
       " 'need': 142,\n",
       " 'development': 134}"
      ]
     },
     "metadata": {},
     "output_type": "display_data"
    },
    {
     "data": {
      "text/plain": [
       "{'technology': 321,\n",
       " 'science': 319,\n",
       " 'also': 267,\n",
       " 'japan': 191,\n",
       " 'society': 188,\n",
       " 'research': 182,\n",
       " 'energy': 161,\n",
       " 'new': 154,\n",
       " 'need': 148,\n",
       " 'innovation': 143}"
      ]
     },
     "metadata": {},
     "output_type": "display_data"
    },
    {
     "data": {
      "text/plain": [
       "{'science': 290,\n",
       " 'technology': 282,\n",
       " 'also': 268,\n",
       " 'society': 245,\n",
       " 'research': 221,\n",
       " 'energy': 172,\n",
       " 'innovation': 154,\n",
       " 'data': 154,\n",
       " 'speakers': 149,\n",
       " 'japan': 147}"
      ]
     },
     "metadata": {},
     "output_type": "display_data"
    },
    {
     "data": {
      "text/plain": [
       "{'science': 374,\n",
       " 'technology': 276,\n",
       " 'also': 253,\n",
       " 'society': 236,\n",
       " 'pandemic': 214,\n",
       " 'research': 181,\n",
       " 'global': 152,\n",
       " 'data': 140,\n",
       " 'change': 129,\n",
       " 'people': 113}"
      ]
     },
     "metadata": {},
     "output_type": "display_data"
    },
    {
     "data": {
      "text/plain": [
       "{'science': 313,\n",
       " 'technology': 211,\n",
       " 'also': 191,\n",
       " 'research': 183,\n",
       " 'society': 135,\n",
       " 'global': 133,\n",
       " 'need': 131,\n",
       " 'new': 125,\n",
       " 'technologies': 114,\n",
       " 'must': 108}"
      ]
     },
     "metadata": {},
     "output_type": "display_data"
    },
    {
     "data": {
      "text/plain": [
       "{'also': 312,\n",
       " 'science': 299,\n",
       " 'technology': 233,\n",
       " 'research': 219,\n",
       " 'energy': 160,\n",
       " 'need': 141,\n",
       " 'speakers': 135,\n",
       " 'new': 134,\n",
       " 'participants': 132,\n",
       " 'president': 129}"
      ]
     },
     "metadata": {},
     "output_type": "display_data"
    },
    {
     "data": {
      "text/plain": [
       "{'also': 324,\n",
       " 'ai': 280,\n",
       " 'science': 275,\n",
       " 'technology': 273,\n",
       " 'research': 271,\n",
       " 'participants': 165,\n",
       " 'speakers': 162,\n",
       " 'new': 141,\n",
       " 'data': 139,\n",
       " 'president': 137}"
      ]
     },
     "metadata": {},
     "output_type": "display_data"
    }
   ],
   "source": [
    "from collections import Counter\n",
    "\n",
    "# Define a function to count top 10 words\n",
    "def count_top_words(text):\n",
    "    words = text.split()\n",
    "    word_counts = Counter(words)\n",
    "    top_10_words = word_counts.most_common(10)\n",
    "    return dict(top_10_words)\n",
    "\n",
    "# Apply the function to the 'Cleaned Text' column\n",
    "df['Top 10 Words'] = df['Cleaned Text'].apply(count_top_words)\n",
    "\n",
    "# Display the DataFrame with top 10 words for each row\n",
    "\n",
    "for i in range(20):\n",
    "    display(df['Top 10 Words'][i])"
   ]
  },
  {
   "cell_type": "code",
   "execution_count": 10,
   "metadata": {},
   "outputs": [
    {
     "data": {
      "text/plain": [
       "2004"
      ]
     },
     "metadata": {},
     "output_type": "display_data"
    },
    {
     "data": {
      "text/plain": [
       "{'science': 108,\n",
       " 'technology': 61,\n",
       " 'session': 49,\n",
       " 'research': 49,\n",
       " 'countries': 48,\n",
       " 'energy': 47,\n",
       " 'society': 40,\n",
       " 'said': 40,\n",
       " 'developing': 39,\n",
       " 'president': 39,\n",
       " 'new': 36,\n",
       " 'scientific': 33,\n",
       " 'public': 31,\n",
       " 'jp': 30,\n",
       " 'must': 29,\n",
       " 'also': 29,\n",
       " 'government': 28,\n",
       " 'global': 28,\n",
       " 'nanotechnology': 28,\n",
       " 'forum': 26}"
      ]
     },
     "metadata": {},
     "output_type": "display_data"
    },
    {
     "data": {
      "text/plain": [
       "2005"
      ]
     },
     "metadata": {},
     "output_type": "display_data"
    },
    {
     "data": {
      "text/plain": [
       "{'science': 209,\n",
       " 'technology': 176,\n",
       " 'society': 84,\n",
       " 'president': 75,\n",
       " 'research': 65,\n",
       " 'forum': 64,\n",
       " 'us': 64,\n",
       " 'e': 64,\n",
       " 'new': 61,\n",
       " 'jp': 57,\n",
       " 'session': 56,\n",
       " 'human': 56,\n",
       " 'energy': 55,\n",
       " 'development': 52,\n",
       " 'director': 48,\n",
       " 'university': 47,\n",
       " 'knowledge': 41,\n",
       " 'information': 40,\n",
       " 'countries': 38,\n",
       " 'global': 37}"
      ]
     },
     "metadata": {},
     "output_type": "display_data"
    },
    {
     "data": {
      "text/plain": [
       "2006"
      ]
     },
     "metadata": {},
     "output_type": "display_data"
    },
    {
     "data": {
      "text/plain": [
       "{'e': 296,\n",
       " 'n': 199,\n",
       " 'science': 180,\n",
       " 'r': 172,\n",
       " 'technology': 123,\n",
       " 'h': 102,\n",
       " 'l': 102,\n",
       " 'c': 99,\n",
       " 'president': 73,\n",
       " 'u': 73,\n",
       " 'new': 70,\n",
       " 'us': 68,\n",
       " 'forum': 64,\n",
       " 'f': 62,\n",
       " 'society': 61,\n",
       " 'p': 59,\n",
       " 'g': 58,\n",
       " 'research': 51,\n",
       " 'director': 49,\n",
       " 'university': 48}"
      ]
     },
     "metadata": {},
     "output_type": "display_data"
    },
    {
     "data": {
      "text/plain": [
       "2007"
      ]
     },
     "metadata": {},
     "output_type": "display_data"
    },
    {
     "data": {
      "text/plain": [
       "{'science': 221,\n",
       " 'technology': 180,\n",
       " 'research': 112,\n",
       " 'new': 86,\n",
       " 'us': 86,\n",
       " 'forum': 83,\n",
       " 'need': 81,\n",
       " 'president': 80,\n",
       " 'innovation': 77,\n",
       " 'countries': 77,\n",
       " 'global': 67,\n",
       " 'developing': 66,\n",
       " 'energy': 64,\n",
       " 'society': 60,\n",
       " 'international': 59,\n",
       " 'development': 59,\n",
       " 'public': 56,\n",
       " 'world': 53,\n",
       " 'scientific': 52,\n",
       " 'must': 52}"
      ]
     },
     "metadata": {},
     "output_type": "display_data"
    },
    {
     "data": {
      "text/plain": [
       "2008"
      ]
     },
     "metadata": {},
     "output_type": "display_data"
    },
    {
     "data": {
      "text/plain": [
       "{'science': 168,\n",
       " 'technology': 140,\n",
       " 'research': 123,\n",
       " 'countries': 105,\n",
       " 'developing': 93,\n",
       " 'new': 76,\n",
       " 'need': 74,\n",
       " 'president': 73,\n",
       " 'must': 73,\n",
       " 'energy': 72,\n",
       " 'world': 68,\n",
       " 'water': 68,\n",
       " 'scientists': 64,\n",
       " 'development': 63,\n",
       " 'global': 61,\n",
       " 'ict': 58,\n",
       " 'international': 57,\n",
       " 'also': 56,\n",
       " 'forum': 54,\n",
       " 'scientific': 53}"
      ]
     },
     "metadata": {},
     "output_type": "display_data"
    },
    {
     "data": {
      "text/plain": [
       "2009"
      ]
     },
     "metadata": {},
     "output_type": "display_data"
    },
    {
     "data": {
      "text/plain": [
       "{'science': 207,\n",
       " 'technology': 180,\n",
       " 'research': 123,\n",
       " 'must': 112,\n",
       " 'japan': 91,\n",
       " 'scientists': 87,\n",
       " 'world': 85,\n",
       " 'new': 84,\n",
       " 'energy': 80,\n",
       " 'president': 80,\n",
       " 'need': 73,\n",
       " 'countries': 73,\n",
       " 'one': 67,\n",
       " 'global': 66,\n",
       " 'also': 63,\n",
       " 'people': 57,\n",
       " 'forum': 53,\n",
       " 'university': 52,\n",
       " 'international': 51,\n",
       " 'scientific': 51}"
      ]
     },
     "metadata": {},
     "output_type": "display_data"
    },
    {
     "data": {
      "text/plain": [
       "2010"
      ]
     },
     "metadata": {},
     "output_type": "display_data"
    },
    {
     "data": {
      "text/plain": [
       "{'science': 161,\n",
       " 'technology': 153,\n",
       " 'energy': 144,\n",
       " 'world': 100,\n",
       " 'also': 99,\n",
       " 'one': 97,\n",
       " 'said': 94,\n",
       " 'new': 87,\n",
       " 'research': 87,\n",
       " 'must': 83,\n",
       " 'global': 81,\n",
       " 'people': 79,\n",
       " 'countries': 74,\n",
       " 'japan': 68,\n",
       " 'president': 68,\n",
       " 'forum': 61,\n",
       " 'change': 60,\n",
       " 'developing': 59,\n",
       " 'water': 59,\n",
       " 'need': 59}"
      ]
     },
     "metadata": {},
     "output_type": "display_data"
    },
    {
     "data": {
      "text/plain": [
       "2011"
      ]
     },
     "metadata": {},
     "output_type": "display_data"
    },
    {
     "data": {
      "text/plain": [
       "{'also': 130,\n",
       " 'technology': 120,\n",
       " 'science': 106,\n",
       " 'research': 101,\n",
       " 'energy': 94,\n",
       " 'new': 82,\n",
       " 'us': 77,\n",
       " 'must': 76,\n",
       " 'development': 69,\n",
       " 'important': 66,\n",
       " 'world': 65,\n",
       " 'forum': 63,\n",
       " 'need': 62,\n",
       " 'one': 62,\n",
       " 'water': 59,\n",
       " 'nuclear': 58,\n",
       " 'innovation': 57,\n",
       " 'university': 57,\n",
       " 'president': 55,\n",
       " 'future': 53}"
      ]
     },
     "metadata": {},
     "output_type": "display_data"
    },
    {
     "data": {
      "text/plain": [
       "2012"
      ]
     },
     "metadata": {},
     "output_type": "display_data"
    },
    {
     "data": {
      "text/plain": [
       "{'research': 138,\n",
       " 'science': 128,\n",
       " 'also': 125,\n",
       " 'technology': 124,\n",
       " 'energy': 101,\n",
       " 'countries': 86,\n",
       " 'people': 75,\n",
       " 'must': 73,\n",
       " 'one': 73,\n",
       " 'president': 72,\n",
       " 'innovation': 69,\n",
       " 'world': 69,\n",
       " 'forum': 67,\n",
       " 'development': 66,\n",
       " 'water': 62,\n",
       " 'scientific': 62,\n",
       " 'new': 61,\n",
       " 'public': 60,\n",
       " 'nuclear': 58,\n",
       " 'global': 57}"
      ]
     },
     "metadata": {},
     "output_type": "display_data"
    },
    {
     "data": {
      "text/plain": [
       "2013"
      ]
     },
     "metadata": {},
     "output_type": "display_data"
    },
    {
     "data": {
      "text/plain": [
       "{'forum': 219,\n",
       " 'technology': 192,\n",
       " 'science': 182,\n",
       " 'sts': 147,\n",
       " 'research': 131,\n",
       " 'energy': 111,\n",
       " 'japan': 105,\n",
       " 'also': 98,\n",
       " 'society': 95,\n",
       " 'one': 94,\n",
       " 'press': 93,\n",
       " 'new': 90,\n",
       " 'innovation': 76,\n",
       " 'world': 75,\n",
       " 'tokyo': 74,\n",
       " 'building': 73,\n",
       " 'organization': 67,\n",
       " 'global': 65,\n",
       " 'grand': 63,\n",
       " 'sanno': 62}"
      ]
     },
     "metadata": {},
     "output_type": "display_data"
    },
    {
     "data": {
      "text/plain": [
       "2014"
      ]
     },
     "metadata": {},
     "output_type": "display_data"
    },
    {
     "data": {
      "text/plain": [
       "{'also': 400,\n",
       " 'technology': 376,\n",
       " 'science': 354,\n",
       " 'research': 233,\n",
       " 'innovation': 232,\n",
       " 'countries': 213,\n",
       " 'society': 205,\n",
       " 'would': 195,\n",
       " 'one': 184,\n",
       " 'session': 180,\n",
       " 'new': 180,\n",
       " 'energy': 169,\n",
       " 'world': 166,\n",
       " 'important': 159,\n",
       " 'must': 158,\n",
       " 'need': 154,\n",
       " 'issues': 153,\n",
       " 'data': 153,\n",
       " 'speaker': 152,\n",
       " 'people': 148}"
      ]
     },
     "metadata": {},
     "output_type": "display_data"
    },
    {
     "data": {
      "text/plain": [
       "2015"
      ]
     },
     "metadata": {},
     "output_type": "display_data"
    },
    {
     "data": {
      "text/plain": [
       "{'science': 417,\n",
       " 'also': 384,\n",
       " 'technology': 378,\n",
       " 'speaker': 305,\n",
       " 'innovation': 244,\n",
       " 'nationality': 237,\n",
       " 'research': 231,\n",
       " 'japan': 229,\n",
       " 'energy': 226,\n",
       " 'must': 220,\n",
       " 'new': 219,\n",
       " 'data': 191,\n",
       " 'world': 182,\n",
       " 'society': 176,\n",
       " 'session': 172,\n",
       " 'issues': 171,\n",
       " 'would': 167,\n",
       " 'development': 161,\n",
       " 'stated': 159,\n",
       " 'need': 157}"
      ]
     },
     "metadata": {},
     "output_type": "display_data"
    },
    {
     "data": {
      "text/plain": [
       "2016"
      ]
     },
     "metadata": {},
     "output_type": "display_data"
    },
    {
     "data": {
      "text/plain": [
       "{'science': 405,\n",
       " 'technology': 348,\n",
       " 'also': 315,\n",
       " 'research': 231,\n",
       " 'speaker': 227,\n",
       " 'data': 219,\n",
       " 'energy': 209,\n",
       " 'japan': 196,\n",
       " 'must': 181,\n",
       " 'new': 173,\n",
       " 'innovation': 172,\n",
       " 'session': 170,\n",
       " 'development': 169,\n",
       " 'chair': 158,\n",
       " 'issues': 157,\n",
       " 'important': 155,\n",
       " 'society': 151,\n",
       " 'countries': 151,\n",
       " 'group': 142,\n",
       " 'public': 137}"
      ]
     },
     "metadata": {},
     "output_type": "display_data"
    },
    {
     "data": {
      "text/plain": [
       "2017"
      ]
     },
     "metadata": {},
     "output_type": "display_data"
    },
    {
     "data": {
      "text/plain": [
       "{'science': 329,\n",
       " 'technology': 316,\n",
       " 'society': 214,\n",
       " 'energy': 179,\n",
       " 'japan': 167,\n",
       " 'also': 165,\n",
       " 'new': 160,\n",
       " 'research': 154,\n",
       " 'need': 142,\n",
       " 'development': 134,\n",
       " 'innovation': 127,\n",
       " 'president': 126,\n",
       " 'data': 125,\n",
       " 'chair': 125,\n",
       " 'future': 109,\n",
       " 'technologies': 106,\n",
       " 'countries': 101,\n",
       " 'university': 97,\n",
       " 'discussion': 97,\n",
       " 'important': 94}"
      ]
     },
     "metadata": {},
     "output_type": "display_data"
    },
    {
     "data": {
      "text/plain": [
       "2018"
      ]
     },
     "metadata": {},
     "output_type": "display_data"
    },
    {
     "data": {
      "text/plain": [
       "{'technology': 321,\n",
       " 'science': 319,\n",
       " 'also': 267,\n",
       " 'japan': 191,\n",
       " 'society': 188,\n",
       " 'research': 182,\n",
       " 'energy': 161,\n",
       " 'new': 154,\n",
       " 'need': 148,\n",
       " 'innovation': 143,\n",
       " 'speakers': 139,\n",
       " 'data': 135,\n",
       " 'technologies': 127,\n",
       " 'president': 126,\n",
       " 'chair': 114,\n",
       " 'must': 108,\n",
       " 'discussion': 107,\n",
       " 'future': 95,\n",
       " 'ai': 92,\n",
       " 'university': 91}"
      ]
     },
     "metadata": {},
     "output_type": "display_data"
    },
    {
     "data": {
      "text/plain": [
       "2019"
      ]
     },
     "metadata": {},
     "output_type": "display_data"
    },
    {
     "data": {
      "text/plain": [
       "{'science': 290,\n",
       " 'technology': 282,\n",
       " 'also': 268,\n",
       " 'society': 245,\n",
       " 'research': 221,\n",
       " 'energy': 172,\n",
       " 'innovation': 154,\n",
       " 'data': 154,\n",
       " 'speakers': 149,\n",
       " 'japan': 147,\n",
       " 'president': 140,\n",
       " 'need': 127,\n",
       " 'new': 109,\n",
       " 'countries': 108,\n",
       " 'ai': 108,\n",
       " 'chair': 106,\n",
       " 'technologies': 104,\n",
       " 'change': 103,\n",
       " 'university': 101,\n",
       " 'discussed': 100}"
      ]
     },
     "metadata": {},
     "output_type": "display_data"
    },
    {
     "data": {
      "text/plain": [
       "2020"
      ]
     },
     "metadata": {},
     "output_type": "display_data"
    },
    {
     "data": {
      "text/plain": [
       "{'science': 374,\n",
       " 'technology': 276,\n",
       " 'also': 253,\n",
       " 'society': 236,\n",
       " 'pandemic': 214,\n",
       " 'research': 181,\n",
       " 'global': 152,\n",
       " 'data': 140,\n",
       " 'change': 129,\n",
       " 'people': 113,\n",
       " 'countries': 112,\n",
       " 'world': 111,\n",
       " 'new': 109,\n",
       " 'need': 108,\n",
       " 'must': 102,\n",
       " 'japan': 101,\n",
       " 'public': 95,\n",
       " 'president': 94,\n",
       " 'collaboration': 92,\n",
       " 'energy': 91}"
      ]
     },
     "metadata": {},
     "output_type": "display_data"
    },
    {
     "data": {
      "text/plain": [
       "2021"
      ]
     },
     "metadata": {},
     "output_type": "display_data"
    },
    {
     "data": {
      "text/plain": [
       "{'science': 313,\n",
       " 'technology': 211,\n",
       " 'also': 191,\n",
       " 'research': 183,\n",
       " 'society': 135,\n",
       " 'global': 133,\n",
       " 'need': 131,\n",
       " 'new': 125,\n",
       " 'technologies': 114,\n",
       " 'must': 108,\n",
       " 'innovation': 104,\n",
       " 'energy': 97,\n",
       " 'president': 96,\n",
       " 'world': 93,\n",
       " 'collaboration': 92,\n",
       " 'development': 92,\n",
       " 'quantum': 90,\n",
       " 'countries': 90,\n",
       " 'explained': 89,\n",
       " 'change': 81}"
      ]
     },
     "metadata": {},
     "output_type": "display_data"
    },
    {
     "data": {
      "text/plain": [
       "2022"
      ]
     },
     "metadata": {},
     "output_type": "display_data"
    },
    {
     "data": {
      "text/plain": [
       "{'also': 312,\n",
       " 'science': 299,\n",
       " 'technology': 233,\n",
       " 'research': 219,\n",
       " 'energy': 160,\n",
       " 'need': 141,\n",
       " 'speakers': 135,\n",
       " 'new': 134,\n",
       " 'participants': 132,\n",
       " 'president': 129,\n",
       " 'university': 120,\n",
       " 'chair': 119,\n",
       " 'must': 113,\n",
       " 'data': 111,\n",
       " 'global': 107,\n",
       " 'technologies': 106,\n",
       " 'development': 99,\n",
       " 'education': 96,\n",
       " 'climate': 95,\n",
       " 'industry': 93}"
      ]
     },
     "metadata": {},
     "output_type": "display_data"
    },
    {
     "data": {
      "text/plain": [
       "2023"
      ]
     },
     "metadata": {},
     "output_type": "display_data"
    },
    {
     "data": {
      "text/plain": [
       "{'also': 324,\n",
       " 'ai': 280,\n",
       " 'science': 275,\n",
       " 'technology': 273,\n",
       " 'research': 271,\n",
       " 'participants': 165,\n",
       " 'speakers': 162,\n",
       " 'new': 141,\n",
       " 'data': 139,\n",
       " 'president': 137,\n",
       " 'must': 134,\n",
       " 'development': 126,\n",
       " 'global': 122,\n",
       " 'need': 118,\n",
       " 'discussed': 115,\n",
       " 'university': 114,\n",
       " 'technologies': 103,\n",
       " 'challenges': 102,\n",
       " 'energy': 101,\n",
       " 'society': 101}"
      ]
     },
     "metadata": {},
     "output_type": "display_data"
    }
   ],
   "source": [
    "from collections import Counter\n",
    "\n",
    "# Define a function to count top 10 words\n",
    "def count_top_words(text):\n",
    "    words = text.split()\n",
    "    word_counts = Counter(words)\n",
    "    top_20_words = word_counts.most_common(20)\n",
    "    return dict(top_20_words)\n",
    "\n",
    "# Apply the function to the 'Cleaned Text' column\n",
    "df['Top 20 Words'] = df['Cleaned Text'].apply(count_top_words)\n",
    "\n",
    "# Display the DataFrame with top 20 words for each row\n",
    "\n",
    "for i in range(20):\n",
    "    display(df['Year'][i], df['Top 20 Words'][i])"
   ]
  }
 ],
 "metadata": {
  "kernelspec": {
   "display_name": "Python 3",
   "language": "python",
   "name": "python3"
  },
  "language_info": {
   "codemirror_mode": {
    "name": "ipython",
    "version": 3
   },
   "file_extension": ".py",
   "mimetype": "text/x-python",
   "name": "python",
   "nbconvert_exporter": "python",
   "pygments_lexer": "ipython3",
   "version": "3.10.12"
  }
 },
 "nbformat": 4,
 "nbformat_minor": 2
}
